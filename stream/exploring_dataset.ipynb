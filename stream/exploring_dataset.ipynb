{
 "cells": [
  {
   "cell_type": "code",
   "execution_count": 1,
   "metadata": {},
   "outputs": [],
   "source": [
    "import pandas as pd\n",
    "\n",
    "df=pd.read_csv('D:\\\\Datasets\\\\sna\\\\crime_data\\\\chicago_crimes2.csv')"
   ]
  },
  {
   "cell_type": "code",
   "execution_count": 2,
   "metadata": {},
   "outputs": [
    {
     "data": {
      "text/plain": [
       "{'Unnamed: 0': 1097,\n",
       " 'Community Area': 22.0,\n",
       " 'Primary Type': 'BURGLARY',\n",
       " 'Case Number': 'HY101228',\n",
       " 'Date': '2015-01-01 20:00:00'}"
      ]
     },
     "execution_count": 2,
     "metadata": {},
     "output_type": "execute_result"
    }
   ],
   "source": [
    "{\"Unnamed: 0\":1095,\"Community Area\":30.0,\"Primary Type\":\"CRIMINAL DAMAGE\",\"Case Number\":\"HY101179\",\"Date\":\"2015-01-01 20:00:00\"}\n",
    "{\"Unnamed: 0\":1097,\"Community Area\":22.0,\"Primary Type\":\"BURGLARY\",\"Case Number\":\"HY101228\",\"Date\":\"2015-01-01 20:00:00\"}"
   ]
  },
  {
   "cell_type": "code",
   "execution_count": 3,
   "metadata": {},
   "outputs": [
    {
     "data": {
      "text/html": [
       "<div>\n",
       "<style scoped>\n",
       "    .dataframe tbody tr th:only-of-type {\n",
       "        vertical-align: middle;\n",
       "    }\n",
       "\n",
       "    .dataframe tbody tr th {\n",
       "        vertical-align: top;\n",
       "    }\n",
       "\n",
       "    .dataframe thead th {\n",
       "        text-align: right;\n",
       "    }\n",
       "</style>\n",
       "<table border=\"1\" class=\"dataframe\">\n",
       "  <thead>\n",
       "    <tr style=\"text-align: right;\">\n",
       "      <th></th>\n",
       "      <th>Unnamed: 0</th>\n",
       "      <th>ID</th>\n",
       "      <th>Beat</th>\n",
       "      <th>District</th>\n",
       "      <th>Ward</th>\n",
       "      <th>Community Area</th>\n",
       "      <th>X Coordinate</th>\n",
       "      <th>Y Coordinate</th>\n",
       "      <th>Year</th>\n",
       "      <th>Latitude</th>\n",
       "      <th>Longitude</th>\n",
       "    </tr>\n",
       "  </thead>\n",
       "  <tbody>\n",
       "    <tr>\n",
       "      <th>count</th>\n",
       "      <td>2.644050e+05</td>\n",
       "      <td>2.644050e+05</td>\n",
       "      <td>264405.000000</td>\n",
       "      <td>264405.000000</td>\n",
       "      <td>264403.000000</td>\n",
       "      <td>264405.000000</td>\n",
       "      <td>2.578990e+05</td>\n",
       "      <td>2.578990e+05</td>\n",
       "      <td>264405.0</td>\n",
       "      <td>257899.000000</td>\n",
       "      <td>257899.000000</td>\n",
       "    </tr>\n",
       "    <tr>\n",
       "      <th>mean</th>\n",
       "      <td>1.622484e+06</td>\n",
       "      <td>1.013515e+07</td>\n",
       "      <td>1143.983956</td>\n",
       "      <td>11.210949</td>\n",
       "      <td>22.814771</td>\n",
       "      <td>37.575012</td>\n",
       "      <td>1.164457e+06</td>\n",
       "      <td>1.885560e+06</td>\n",
       "      <td>2015.0</td>\n",
       "      <td>41.841575</td>\n",
       "      <td>-87.672036</td>\n",
       "    </tr>\n",
       "    <tr>\n",
       "      <th>std</th>\n",
       "      <td>2.546275e+06</td>\n",
       "      <td>4.670320e+05</td>\n",
       "      <td>690.751529</td>\n",
       "      <td>6.901154</td>\n",
       "      <td>13.783112</td>\n",
       "      <td>21.419776</td>\n",
       "      <td>1.646845e+04</td>\n",
       "      <td>3.120919e+04</td>\n",
       "      <td>0.0</td>\n",
       "      <td>0.085838</td>\n",
       "      <td>0.059942</td>\n",
       "    </tr>\n",
       "    <tr>\n",
       "      <th>min</th>\n",
       "      <td>6.000000e+00</td>\n",
       "      <td>2.171400e+04</td>\n",
       "      <td>111.000000</td>\n",
       "      <td>1.000000</td>\n",
       "      <td>1.000000</td>\n",
       "      <td>1.000000</td>\n",
       "      <td>1.094231e+06</td>\n",
       "      <td>1.813897e+06</td>\n",
       "      <td>2015.0</td>\n",
       "      <td>41.644590</td>\n",
       "      <td>-87.928909</td>\n",
       "    </tr>\n",
       "    <tr>\n",
       "      <th>25%</th>\n",
       "      <td>4.083330e+05</td>\n",
       "      <td>1.003363e+07</td>\n",
       "      <td>612.000000</td>\n",
       "      <td>6.000000</td>\n",
       "      <td>10.000000</td>\n",
       "      <td>23.000000</td>\n",
       "      <td>1.152408e+06</td>\n",
       "      <td>1.858593e+06</td>\n",
       "      <td>2015.0</td>\n",
       "      <td>41.767329</td>\n",
       "      <td>-87.715914</td>\n",
       "    </tr>\n",
       "    <tr>\n",
       "      <th>50%</th>\n",
       "      <td>4.749530e+05</td>\n",
       "      <td>1.014845e+07</td>\n",
       "      <td>1023.000000</td>\n",
       "      <td>10.000000</td>\n",
       "      <td>23.000000</td>\n",
       "      <td>32.000000</td>\n",
       "      <td>1.166064e+06</td>\n",
       "      <td>1.891472e+06</td>\n",
       "      <td>2015.0</td>\n",
       "      <td>41.857865</td>\n",
       "      <td>-87.666009</td>\n",
       "    </tr>\n",
       "    <tr>\n",
       "      <th>75%</th>\n",
       "      <td>5.415430e+05</td>\n",
       "      <td>1.026277e+07</td>\n",
       "      <td>1654.000000</td>\n",
       "      <td>16.000000</td>\n",
       "      <td>34.000000</td>\n",
       "      <td>57.000000</td>\n",
       "      <td>1.176389e+06</td>\n",
       "      <td>1.908452e+06</td>\n",
       "      <td>2015.0</td>\n",
       "      <td>41.904503</td>\n",
       "      <td>-87.627995</td>\n",
       "    </tr>\n",
       "    <tr>\n",
       "      <th>max</th>\n",
       "      <td>7.143692e+06</td>\n",
       "      <td>1.208331e+07</td>\n",
       "      <td>2535.000000</td>\n",
       "      <td>31.000000</td>\n",
       "      <td>50.000000</td>\n",
       "      <td>77.000000</td>\n",
       "      <td>1.205111e+06</td>\n",
       "      <td>1.951523e+06</td>\n",
       "      <td>2015.0</td>\n",
       "      <td>42.022575</td>\n",
       "      <td>-87.524615</td>\n",
       "    </tr>\n",
       "  </tbody>\n",
       "</table>\n",
       "</div>"
      ],
      "text/plain": [
       "         Unnamed: 0            ID           Beat       District  \\\n",
       "count  2.644050e+05  2.644050e+05  264405.000000  264405.000000   \n",
       "mean   1.622484e+06  1.013515e+07    1143.983956      11.210949   \n",
       "std    2.546275e+06  4.670320e+05     690.751529       6.901154   \n",
       "min    6.000000e+00  2.171400e+04     111.000000       1.000000   \n",
       "25%    4.083330e+05  1.003363e+07     612.000000       6.000000   \n",
       "50%    4.749530e+05  1.014845e+07    1023.000000      10.000000   \n",
       "75%    5.415430e+05  1.026277e+07    1654.000000      16.000000   \n",
       "max    7.143692e+06  1.208331e+07    2535.000000      31.000000   \n",
       "\n",
       "                Ward  Community Area  X Coordinate  Y Coordinate      Year  \\\n",
       "count  264403.000000   264405.000000  2.578990e+05  2.578990e+05  264405.0   \n",
       "mean       22.814771       37.575012  1.164457e+06  1.885560e+06    2015.0   \n",
       "std        13.783112       21.419776  1.646845e+04  3.120919e+04       0.0   \n",
       "min         1.000000        1.000000  1.094231e+06  1.813897e+06    2015.0   \n",
       "25%        10.000000       23.000000  1.152408e+06  1.858593e+06    2015.0   \n",
       "50%        23.000000       32.000000  1.166064e+06  1.891472e+06    2015.0   \n",
       "75%        34.000000       57.000000  1.176389e+06  1.908452e+06    2015.0   \n",
       "max        50.000000       77.000000  1.205111e+06  1.951523e+06    2015.0   \n",
       "\n",
       "            Latitude      Longitude  \n",
       "count  257899.000000  257899.000000  \n",
       "mean       41.841575     -87.672036  \n",
       "std         0.085838       0.059942  \n",
       "min        41.644590     -87.928909  \n",
       "25%        41.767329     -87.715914  \n",
       "50%        41.857865     -87.666009  \n",
       "75%        41.904503     -87.627995  \n",
       "max        42.022575     -87.524615  "
      ]
     },
     "execution_count": 3,
     "metadata": {},
     "output_type": "execute_result"
    }
   ],
   "source": [
    "df.describe()\n"
   ]
  },
  {
   "cell_type": "code",
   "execution_count": 4,
   "metadata": {},
   "outputs": [],
   "source": [
    "\n",
    "\n",
    "df = df[~df.isnull().any(axis=1)]\n",
    "df['Ward'] = df['Ward'].astype('int')"
   ]
  },
  {
   "cell_type": "code",
   "execution_count": 5,
   "metadata": {},
   "outputs": [],
   "source": [
    "# df2 = df.drop(['Unnamed: 0', 'ID', 'Beat', 'X Coordinate', 'Y Coordinate', 'Year', 'Latitude', 'Longitude', 'IUCR','Ward','FBI Code', 'Updated On', 'Location', 'Arrest', 'Domestic', 'Location Description'], axis=1) # 'Case Number',"
   ]
  },
  {
   "cell_type": "code",
   "execution_count": 9,
   "metadata": {},
   "outputs": [],
   "source": [
    "df2 = df\n"
   ]
  },
  {
   "cell_type": "code",
   "execution_count": 10,
   "metadata": {},
   "outputs": [],
   "source": [
    "df2['Date'] = pd.to_datetime(df['Date'])\n",
    "\n",
    "df2['weeknumber'] =  df2['Date'].dt.isocalendar().week # 1-53\n",
    "df2['year'] =  df2['Date'].dt.isocalendar().year # 1-53\n",
    "\n",
    "df2 = df2[['Description','Community Area', 'weeknumber','year']]"
   ]
  },
  {
   "cell_type": "code",
   "execution_count": 11,
   "metadata": {},
   "outputs": [
    {
     "data": {
      "text/html": [
       "<div>\n",
       "<style scoped>\n",
       "    .dataframe tbody tr th:only-of-type {\n",
       "        vertical-align: middle;\n",
       "    }\n",
       "\n",
       "    .dataframe tbody tr th {\n",
       "        vertical-align: top;\n",
       "    }\n",
       "\n",
       "    .dataframe thead th {\n",
       "        text-align: right;\n",
       "    }\n",
       "</style>\n",
       "<table border=\"1\" class=\"dataframe\">\n",
       "  <thead>\n",
       "    <tr style=\"text-align: right;\">\n",
       "      <th></th>\n",
       "      <th>Description</th>\n",
       "      <th>Community Area</th>\n",
       "      <th>weeknumber</th>\n",
       "      <th>year</th>\n",
       "    </tr>\n",
       "  </thead>\n",
       "  <tbody>\n",
       "    <tr>\n",
       "      <th>1</th>\n",
       "      <td>AGG SEX ASSLT OF CHILD FAM MBR</td>\n",
       "      <td>30.0</td>\n",
       "      <td>1</td>\n",
       "      <td>2015</td>\n",
       "    </tr>\n",
       "    <tr>\n",
       "      <th>3</th>\n",
       "      <td>FINANCIAL IDENTITY THEFT OVER $ 300</td>\n",
       "      <td>22.0</td>\n",
       "      <td>1</td>\n",
       "      <td>2015</td>\n",
       "    </tr>\n",
       "    <tr>\n",
       "      <th>6</th>\n",
       "      <td>FINANCIAL IDENTITY THEFT OVER $ 300</td>\n",
       "      <td>25.0</td>\n",
       "      <td>1</td>\n",
       "      <td>2015</td>\n",
       "    </tr>\n",
       "    <tr>\n",
       "      <th>7</th>\n",
       "      <td>PREDATORY</td>\n",
       "      <td>10.0</td>\n",
       "      <td>1</td>\n",
       "      <td>2015</td>\n",
       "    </tr>\n",
       "    <tr>\n",
       "      <th>8</th>\n",
       "      <td>FINANCIAL IDENTITY THEFT $300 AND UNDER</td>\n",
       "      <td>8.0</td>\n",
       "      <td>1</td>\n",
       "      <td>2015</td>\n",
       "    </tr>\n",
       "  </tbody>\n",
       "</table>\n",
       "</div>"
      ],
      "text/plain": [
       "                               Description  Community Area  weeknumber  year\n",
       "1           AGG SEX ASSLT OF CHILD FAM MBR            30.0           1  2015\n",
       "3      FINANCIAL IDENTITY THEFT OVER $ 300            22.0           1  2015\n",
       "6      FINANCIAL IDENTITY THEFT OVER $ 300            25.0           1  2015\n",
       "7                                PREDATORY            10.0           1  2015\n",
       "8  FINANCIAL IDENTITY THEFT $300 AND UNDER             8.0           1  2015"
      ]
     },
     "execution_count": 11,
     "metadata": {},
     "output_type": "execute_result"
    }
   ],
   "source": [
    "df2.head()"
   ]
  },
  {
   "cell_type": "code",
   "execution_count": 12,
   "metadata": {},
   "outputs": [],
   "source": [
    "for i in range(1,54):\n",
    "  df2[df2['weeknumber']==i].to_csv(f'D:\\\\Datasets\\\\sna\\\\crime_data\\\\weeks\\\\chicago_crimes_week{i}.csv', index=False)"
   ]
  },
  {
   "cell_type": "code",
   "execution_count": 13,
   "metadata": {},
   "outputs": [],
   "source": [
    "# most common word of describing a crime per week\n",
    "df2.to_csv('D:\\\\Datasets\\\\sna\\\\crime_data\\\\crimes_in_chicago_streamdata.csv', index=False)"
   ]
  },
  {
   "cell_type": "code",
   "execution_count": null,
   "metadata": {},
   "outputs": [],
   "source": []
  }
 ],
 "metadata": {
  "kernelspec": {
   "display_name": "Python 3.9.12 ('base')",
   "language": "python",
   "name": "python3"
  },
  "language_info": {
   "codemirror_mode": {
    "name": "ipython",
    "version": 3
   },
   "file_extension": ".py",
   "mimetype": "text/x-python",
   "name": "python",
   "nbconvert_exporter": "python",
   "pygments_lexer": "ipython3",
   "version": "3.9.12"
  },
  "orig_nbformat": 4,
  "vscode": {
   "interpreter": {
    "hash": "0ca3967508393c830e5fdf827e244c60a1e86d5fcaf2e086715c4929113c1ab3"
   }
  }
 },
 "nbformat": 4,
 "nbformat_minor": 2
}
